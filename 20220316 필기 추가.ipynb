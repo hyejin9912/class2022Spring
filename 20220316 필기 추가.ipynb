{
  "nbformat": 4,
  "nbformat_minor": 0,
  "metadata": {
    "colab": {
      "name": "20220316.ipynb",
      "provenance": [],
      "collapsed_sections": [],
      "authorship_tag": "ABX9TyOr92AjpTlNg6DW+Sfr4FKh",
      "include_colab_link": true
    },
    "kernelspec": {
      "name": "python3",
      "display_name": "Python 3"
    },
    "language_info": {
      "name": "python"
    }
  },
  "cells": [
    {
      "cell_type": "markdown",
      "metadata": {
        "id": "view-in-github",
        "colab_type": "text"
      },
      "source": [
        "<a href=\"https://colab.research.google.com/github/hyejin9912/class2022Spring/blob/main/20220316%20%ED%95%84%EA%B8%B0%20%EC%B6%94%EA%B0%80.ipynb\" target=\"_parent\"><img src=\"https://colab.research.google.com/assets/colab-badge.svg\" alt=\"Open In Colab\"/></a>"
      ]
    },
    {
      "cell_type": "markdown",
      "source": [
        "## **variables**"
      ],
      "metadata": {
        "id": "mJGISJ9IZTE5"
      }
    },
    {
      "cell_type": "markdown",
      "source": [
        "\n",
        "변수(variables)는 numbers, strings, list, dict.\n",
        "\n",
        "numbers: int, float\n",
        "\n",
        "type\n",
        "\n",
        "정수: int (integer)\n",
        "실수: float (소숫점 있는)\n",
        "\n",
        "value: 변수가 가지고 있는 content. \n",
        "\n",
        "\n",
        "strings(문자) \n",
        "\n",
        "list: 여러 개 담을 수 있음. (tuple 이랑 유사. tuple은 대괄호 대신 그냥 괄호가 사용됨. 모든 게 똑같지만, 차이는 tuple은 아이템을 assign해서 내부 바꾸는 것을 못 한다. 사람들이 실수로 코딩하다 지울까봐 생김 )\n",
        "\n",
        "a = [1,2,3]일 때\n",
        "\n",
        "a=[1]=0\n",
        "\n",
        "print(a)하면 [1,0,3] 나옴. 이걸 못하게 했다는 것. \n",
        "\n",
        "dict: dictionary의 준말. \n",
        "\n"
      ],
      "metadata": {
        "id": "wvwL6sBwuwYA"
      }
    },
    {
      "cell_type": "code",
      "source": [
        "a = 1; print(type(a))"
      ],
      "metadata": {
        "colab": {
          "base_uri": "https://localhost:8080/"
        },
        "id": "SUd_p8PdvEvz",
        "outputId": "0f420c82-1bcd-4177-963d-0cbec0b5489c"
      },
      "execution_count": 1,
      "outputs": [
        {
          "output_type": "stream",
          "name": "stdout",
          "text": [
            "<class 'int'>\n"
          ]
        }
      ]
    },
    {
      "cell_type": "markdown",
      "source": [
        "a = 1\n",
        "\n",
        "구글 컴퓨터에 입력됨. \n",
        "\n",
        "print는 보여주는 것. \n",
        "\n",
        "print(a)-> a 속에 내용이 뭐가 있는지 보여달라. \n",
        "\n",
        "print(type (a))->a의 타입을 보여달라. "
      ],
      "metadata": {
        "id": "6GAH0TAHE9u6"
      }
    },
    {
      "cell_type": "code",
      "source": [
        "a = 1.1; print(type(a))"
      ],
      "metadata": {
        "colab": {
          "base_uri": "https://localhost:8080/"
        },
        "id": "-bWPhg7AwMng",
        "outputId": "db3958ce-3543-4bf5-f4b7-09dfa3b738a4"
      },
      "execution_count": null,
      "outputs": [
        {
          "output_type": "stream",
          "name": "stdout",
          "text": [
            "<class 'float'>\n"
          ]
        }
      ]
    },
    {
      "cell_type": "code",
      "source": [
        "a = '123'; print(type(a)); print(a[1])"
      ],
      "metadata": {
        "colab": {
          "base_uri": "https://localhost:8080/"
        },
        "id": "TXKu_UT-wRSV",
        "outputId": "8dc5a1bf-bc80-409e-c7da-aa3eadb992c7"
      },
      "execution_count": null,
      "outputs": [
        {
          "output_type": "stream",
          "name": "stdout",
          "text": [
            "<class 'str'>\n",
            "2\n"
          ]
        }
      ]
    },
    {
      "cell_type": "markdown",
      "source": [
        "str 넣는 방법: \"\" 나 ''를 넣어주면 됨. \n",
        "\n",
        "숫자를 적는다 하더라도 quote 가 있으면 string.\n",
        "\n"
      ],
      "metadata": {
        "id": "0nj8jjeJwbSq"
      }
    },
    {
      "cell_type": "code",
      "source": [
        "a = 'hello'; print(type(a)); print(a[1])"
      ],
      "metadata": {
        "colab": {
          "base_uri": "https://localhost:8080/"
        },
        "id": "-SIidnV5wnal",
        "outputId": "6ae1b5e9-24bf-47b0-fc62-5bb06746c09e"
      },
      "execution_count": null,
      "outputs": [
        {
          "output_type": "stream",
          "name": "stdout",
          "text": [
            "<class 'str'>\n",
            "e\n"
          ]
        }
      ]
    },
    {
      "cell_type": "code",
      "source": [
        "a = [1, 2, 3, 4]; print(type(a)); print(a[0])"
      ],
      "metadata": {
        "colab": {
          "base_uri": "https://localhost:8080/"
        },
        "id": "Zg2xt5faxC3M",
        "outputId": "621b01a1-671c-4f37-def7-f411a7c91ee1"
      },
      "execution_count": null,
      "outputs": [
        {
          "output_type": "stream",
          "name": "stdout",
          "text": [
            "<class 'list'>\n",
            "1\n"
          ]
        }
      ]
    },
    {
      "cell_type": "markdown",
      "source": [
        "list: 숫자, 문자 등 여러 개가 다 들어갈 수 있다. \n",
        "\n",
        "대괄호를 쓴다. [ 0, 0 ] 이런 식으로  쓴다. \n",
        "\n",
        "\n",
        "a라는 변수에는 네 아이템이 있음. 그 중 몇 개만 부분적으로 쓰는 것을 인덱싱이라고 함. \n",
        "\n",
        "a[0]을 실행하면 1이 나옴. 0번째가 첫 번째임. \n",
        "\n",
        "제일 마지막 줄은 print를 안 쳐도 됨. \n",
        "\n",
        "a[1:3]를 실행하면 [2,3]이 나옴. \n",
        "\n",
        "a[1:3]를 실행하면 1은 포함, 3은 미포함. 주의!!\n",
        "\n",
        "\n",
        "a[:]는 제일 처음부터 끝까지.전부 다 \n",
        "\n",
        "a[2:]는 세 번째부터 끝까지. \n",
        "\n",
        "a[2:-1]하면, :의 오른 쪽에 있는 건 포함하지 않음. 그니까 3번째부터 끝에서 두번째까지 나옴. \n",
        "\n",
        "a[2:-1]이라고 하면, -1이 나타내는 게 맨 끝에서 하나 뺀 것까지임.\n",
        "\n",
        "\n",
        "\n",
        "\n"
      ],
      "metadata": {
        "id": "M-5gFAG5wqTS"
      }
    },
    {
      "cell_type": "code",
      "source": [
        "a = [1,'a', [3, '4']]; print(type(a)); print(a[0]); print(a[1]); print(a[2]); print(a[2][1])"
      ],
      "metadata": {
        "colab": {
          "base_uri": "https://localhost:8080/"
        },
        "id": "lDrlcF0ZxSRn",
        "outputId": "97cac125-4b37-4601-8a48-6069f6fa8d74"
      },
      "execution_count": null,
      "outputs": [
        {
          "output_type": "stream",
          "name": "stdout",
          "text": [
            "<class 'list'>\n",
            "1\n",
            "a\n",
            "[3, '4']\n",
            "4\n"
          ]
        }
      ]
    },
    {
      "cell_type": "markdown",
      "source": [
        "list 안에는 숫자, 문자, list 다 들어갈 수 있다. \n",
        "\n",
        "print(a[2][1])-> 4가 나옴. \n",
        "\n",
        "list 와 string 은 index 하는 방법이 똑같다. \n",
        "\n",
        "\n",
        "a= 'abcdef123' ->type(a)는 string임.\n",
        "\n",
        "여기서 a[3:-1] 하면 def12"
      ],
      "metadata": {
        "id": "ab2jz-wAzny4"
      }
    },
    {
      "cell_type": "code",
      "source": [
        "a =\t{\"a\": \"apple\", \"b\": \"orange\", \"c\": 2014}\n",
        "print(type(a))\n",
        "print(a[\"a\"])"
      ],
      "metadata": {
        "colab": {
          "base_uri": "https://localhost:8080/"
        },
        "id": "_ZYDwj3NxX5k",
        "outputId": "dee1ccbd-8290-43a5-c0e2-12208c802f66"
      },
      "execution_count": null,
      "outputs": [
        {
          "output_type": "stream",
          "name": "stdout",
          "text": [
            "<class 'dict'>\n",
            "apple\n"
          ]
        }
      ]
    },
    {
      "cell_type": "markdown",
      "source": [
        "중괄호가 있고 ,가 있음. 총 3개의 아이템으로 되어 있음. \n",
        "\n",
        "dict: dictionary의 준말. \n",
        "\n",
        "쌍으로 되어있음.\n",
        "\n",
        "key와 value로 되어있음. \n",
        "\n",
        "이건 순서가 중요한 게 아니라, 앞에 있는 key의 내용을 가져와라. list처럼 몇 번째, 이렇게 하는 게 아님. \n",
        "\n",
        "만약 a = {aa: 'apple'}했을 때는 오류가 뜸. aa가 변수이기 때문. \n",
        "a = {123: 'apple}해서 print(a[123])은 'apple' 나옴.\n",
        "\n",
        "순서의 정보는 필요 없기 때문에, 순서를 넣으면 error. \n",
        "\n"
      ],
      "metadata": {
        "id": "ATwSZII90sWT"
      }
    },
    {
      "cell_type": "code",
      "source": [
        "s = 'abcdef'\n",
        "print(s[0], s[5], s[-1], s[-6])\n",
        "print(s[1:3], s[1:], s[:3], s[:])"
      ],
      "metadata": {
        "colab": {
          "base_uri": "https://localhost:8080/"
        },
        "id": "TzkpOYKb2pTK",
        "outputId": "990bf579-f37b-4627-ce9b-d4457784be9c"
      },
      "execution_count": null,
      "outputs": [
        {
          "output_type": "stream",
          "name": "stdout",
          "text": [
            "a f f a\n",
            "bc bcdef abc abcdef\n"
          ]
        }
      ]
    },
    {
      "cell_type": "markdown",
      "source": [
        "s[-6]번째면 뒤에서부터 6번째라고 생각하면 됨. \n",
        "\n",
        "string 과 list 는 아주 유사성을 가진다. 인덱스 할 때는 똑같다.  \n",
        "\n",
        ": 있을 때-> 전부 다\n",
        "\n",
        "1: 면-> 2번째부터 끝까지\n",
        "\n",
        "\n",
        "\n",
        "이건 스트링 \n",
        "\n"
      ],
      "metadata": {
        "id": "LPjHgQGF3Kkw"
      }
    },
    {
      "cell_type": "code",
      "source": [
        "n = [100, 200, 300]\n",
        "print(n[0], n[2], n[-1], n[-3])\n",
        "print(n[1:2], n[1:], n[:2], n[:])"
      ],
      "metadata": {
        "colab": {
          "base_uri": "https://localhost:8080/"
        },
        "id": "cmlNpD9A3XHM",
        "outputId": "792c1a5f-8251-4a60-ffaf-57ad2695cd11"
      },
      "execution_count": null,
      "outputs": [
        {
          "output_type": "stream",
          "name": "stdout",
          "text": [
            "100 300 300 100\n",
            "[200] [200, 300] [100, 200] [100, 200, 300]\n"
          ]
        }
      ]
    },
    {
      "cell_type": "markdown",
      "source": [
        "이건 list"
      ],
      "metadata": {
        "id": "a9NTKi3zOSfE"
      }
    },
    {
      "cell_type": "code",
      "source": [
        "len(s)"
      ],
      "metadata": {
        "colab": {
          "base_uri": "https://localhost:8080/"
        },
        "id": "O8bh-CGW3xeV",
        "outputId": "b1642222-86d0-4622-b95e-71b6958f44dd"
      },
      "execution_count": null,
      "outputs": [
        {
          "output_type": "execute_result",
          "data": {
            "text/plain": [
              "6"
            ]
          },
          "metadata": {},
          "execution_count": 10
        }
      ]
    },
    {
      "cell_type": "markdown",
      "source": [
        "len 이라는 함수는 s의 길이를 말함. \n",
        "\n",
        "길이는 6개니까 6을 뱉어냄. \n",
        "\n",
        "S는 string."
      ],
      "metadata": {
        "id": "rLXzursV30sD"
      }
    },
    {
      "cell_type": "code",
      "source": [
        "s[1]+s[3]+s[4:]*10"
      ],
      "metadata": {
        "colab": {
          "base_uri": "https://localhost:8080/",
          "height": 36
        },
        "id": "uQ7VO1bL4JfW",
        "outputId": "c99dacd8-6541-4725-e843-722cd32ab4cc"
      },
      "execution_count": null,
      "outputs": [
        {
          "output_type": "execute_result",
          "data": {
            "text/plain": [
              "'bdefefefefefefefefefef'"
            ],
            "application/vnd.google.colaboratory.intrinsic+json": {
              "type": "string"
            }
          },
          "metadata": {},
          "execution_count": 11
        }
      ]
    },
    {
      "cell_type": "markdown",
      "source": [
        "스트링에도 + 쓸 수 있음\n",
        "\n",
        "s[4:]는 다섯 번째부터 끝까지, 그리고 이걸 10번 곱합. \n",
        "\n",
        "function: 기본적으로 입출력을 가지고 있음. \n",
        "\n",
        "print(s[0])-> 프린트라는 함수. \n",
        "함수(입력)\n",
        "\n",
        "파이썬에서 함수는 괄호를 반드시 써야 함. 코드 상에서 괄호가 보이면 이게 함수구나, 추론할 수 있음. \n",
        "\n",
        "len 도 함수임. s 라는 string 의 길이를 계산하라. "
      ],
      "metadata": {
        "id": "mZvSlLSP4LPj"
      }
    },
    {
      "cell_type": "code",
      "source": [
        "s.upper()"
      ],
      "metadata": {
        "colab": {
          "base_uri": "https://localhost:8080/",
          "height": 36
        },
        "id": "UJeyPn6I4d79",
        "outputId": "97ca8eac-6963-4343-82d8-5de41aca217e"
      },
      "execution_count": null,
      "outputs": [
        {
          "output_type": "execute_result",
          "data": {
            "text/plain": [
              "'ABCDEF'"
            ],
            "application/vnd.google.colaboratory.intrinsic+json": {
              "type": "string"
            }
          },
          "metadata": {},
          "execution_count": 12
        }
      ]
    },
    {
      "cell_type": "markdown",
      "source": [
        "upper도 함수의 형태. 대문자로 만들어줌. "
      ],
      "metadata": {
        "id": "iy7fZWK240-c"
      }
    },
    {
      "cell_type": "code",
      "source": [
        "s = ' this is a house built this year.\\n' \t\n",
        "s"
      ],
      "metadata": {
        "colab": {
          "base_uri": "https://localhost:8080/",
          "height": 36
        },
        "id": "73LybB4s47Il",
        "outputId": "d77ff668-f389-4677-ba56-12cd0306ed0c"
      },
      "execution_count": 3,
      "outputs": [
        {
          "output_type": "execute_result",
          "data": {
            "text/plain": [
              "' this is a house built this year.\\n'"
            ],
            "application/vnd.google.colaboratory.intrinsic+json": {
              "type": "string"
            }
          },
          "metadata": {},
          "execution_count": 3
        }
      ]
    },
    {
      "cell_type": "markdown",
      "source": [
        "s를 아래 한 번 더 써줌. \n",
        "\n",
        "-> print (S)랑 같은 효과. 셀의 가장 마지막 줄만 그냥 S 만 써도 프린트 한 효과를 가짐. "
      ],
      "metadata": {
        "id": "5LETGLkL5S09"
      }
    },
    {
      "cell_type": "code",
      "source": [
        "result = s.find('house') \t    # index of first instance of string t inside s (-1 if not found)\n",
        "result"
      ],
      "metadata": {
        "colab": {
          "base_uri": "https://localhost:8080/"
        },
        "id": "ZNV_qvdw4_hZ",
        "outputId": "0940304a-f513-4a25-f60d-3f017b3872aa"
      },
      "execution_count": 4,
      "outputs": [
        {
          "output_type": "execute_result",
          "data": {
            "text/plain": [
              "11"
            ]
          },
          "metadata": {},
          "execution_count": 4
        }
      ]
    },
    {
      "cell_type": "markdown",
      "source": [
        "'house'를 s에서 찾아라. 찾은 값을 result에 넣어라. \n",
        "\n",
        "print(result)\n",
        "\n",
        "\n",
        "'house'가 11번째라는 것. 띄어쓰기 다 포함. \n"
      ],
      "metadata": {
        "id": "lSRLajdQ5hPn"
      }
    },
    {
      "cell_type": "code",
      "source": [
        "result = s.find('this')\t      # index of first instance of string t inside s (-1 if not found)\n",
        "result"
      ],
      "metadata": {
        "colab": {
          "base_uri": "https://localhost:8080/"
        },
        "id": "4c_QYtzA5DAo",
        "outputId": "d15611e6-6398-4687-e842-53e0881cc208"
      },
      "execution_count": 5,
      "outputs": [
        {
          "output_type": "execute_result",
          "data": {
            "text/plain": [
              "1"
            ]
          },
          "metadata": {},
          "execution_count": 5
        }
      ]
    },
    {
      "cell_type": "markdown",
      "source": [
        "가장 먼저 나오는 this."
      ],
      "metadata": {
        "id": "KwvkK1yE5pxZ"
      }
    },
    {
      "cell_type": "code",
      "source": [
        "s = s.strip()      \t          # a copy of s without leading or trailing whitespace\n",
        "s"
      ],
      "metadata": {
        "colab": {
          "base_uri": "https://localhost:8080/",
          "height": 36
        },
        "id": "rX5kZsvL5FbP",
        "outputId": "e927908f-5c9d-4f74-8db5-839a05d1ca91"
      },
      "execution_count": null,
      "outputs": [
        {
          "output_type": "execute_result",
          "data": {
            "text/plain": [
              "'this is a house built this year.'"
            ],
            "application/vnd.google.colaboratory.intrinsic+json": {
              "type": "string"
            }
          },
          "metadata": {},
          "execution_count": 16
        }
      ]
    },
    {
      "cell_type": "markdown",
      "source": [
        "whitespace를 없애주는 것. \n",
        "\n",
        "맨 앞의 공백이랑 뒤의 것 없애줌."
      ],
      "metadata": {
        "id": "hsTVy4_J5xiG"
      }
    },
    {
      "cell_type": "code",
      "source": [
        "tokens = s.split(' ')\t        # split s into a list wherever a t is found (whitespace by default)\n",
        "tokens"
      ],
      "metadata": {
        "colab": {
          "base_uri": "https://localhost:8080/"
        },
        "id": "UWsG-U_W5IaK",
        "outputId": "a20c5b00-4289-4c21-993b-e67140b071c9"
      },
      "execution_count": null,
      "outputs": [
        {
          "output_type": "execute_result",
          "data": {
            "text/plain": [
              "['this', 'is', 'a', 'house', 'built', 'this', 'year.']"
            ]
          },
          "metadata": {},
          "execution_count": 17
        }
      ]
    },
    {
      "cell_type": "markdown",
      "source": [
        "s가 이제 공백 없는 걸로 바뀜. \n",
        "'this is a house built this year.'\n",
        "\n",
        "split이라는 함수: ('') 입력. 빈칸이 있으면 빈칸을 중심으로 쪼개서 리스트로 만들어라. \n",
        "\n",
        "빈칸은 포함시키지 않음. 단어를 빈칸 중심으로 나눔. \n",
        "\n",
        "그러면 리스트로 만든 것을 원 문장으로 만들고 싶다면 아래를 보면 됨. "
      ],
      "metadata": {
        "id": "Ao9TW9vK56_h"
      }
    },
    {
      "cell_type": "code",
      "source": [
        "s = ' '.join(tokens)\t        # combine the words of the text into a string using s as the glue\n",
        "s"
      ],
      "metadata": {
        "colab": {
          "base_uri": "https://localhost:8080/",
          "height": 36
        },
        "id": "3bUQv19w5K7u",
        "outputId": "7d7f7b81-f424-4798-aec3-7a40c67ce19b"
      },
      "execution_count": null,
      "outputs": [
        {
          "output_type": "execute_result",
          "data": {
            "text/plain": [
              "'this is a house built this year.'"
            ],
            "application/vnd.google.colaboratory.intrinsic+json": {
              "type": "string"
            }
          },
          "metadata": {},
          "execution_count": 18
        }
      ]
    },
    {
      "cell_type": "markdown",
      "source": [
        "빈칸을 이용해서 이 list를 join 하라.\n",
        "\n",
        "이러면 원 문장으로 돌아감. "
      ],
      "metadata": {
        "id": "Mxwa51FpQvWn"
      }
    },
    {
      "cell_type": "code",
      "source": [
        "s = s.replace('this', 'that') # replace instances of t with u inside s\n",
        "s"
      ],
      "metadata": {
        "colab": {
          "base_uri": "https://localhost:8080/",
          "height": 36
        },
        "id": "uNoWGBwI5NK8",
        "outputId": "d0a77329-8c4a-400f-a1a4-b321a32511dc"
      },
      "execution_count": null,
      "outputs": [
        {
          "output_type": "execute_result",
          "data": {
            "text/plain": [
              "'that is a house built that year.'"
            ],
            "application/vnd.google.colaboratory.intrinsic+json": {
              "type": "string"
            }
          },
          "metadata": {},
          "execution_count": 19
        }
      ]
    },
    {
      "cell_type": "markdown",
      "source": [
        "this를 that으로 바꿔줘라. \n"
      ],
      "metadata": {
        "id": "YhDt9SNt6OFD"
      }
    },
    {
      "cell_type": "markdown",
      "source": [
        "## **Function**"
      ],
      "metadata": {
        "id": "P6DQUdZARIj6"
      }
    },
    {
      "cell_type": "code",
      "source": [
        "def add(a,b):\n",
        "  return a+b\n",
        "\n",
        "def subtract(a,b):\n",
        "  return a-b\n",
        "\n",
        "def multiply(a,b):\n",
        "  return a*b\n",
        "\n",
        "def divide(a,b):\n",
        "  return a/b"
      ],
      "metadata": {
        "id": "Am5VYjDf6lLq"
      },
      "execution_count": 6,
      "outputs": []
    },
    {
      "cell_type": "code",
      "source": [
        "c = add(1,2); print(c)\n",
        "c = subtract(1,2); print(c)\n",
        "c = multiply(1,2); print(c)\n",
        "c = divide(1,2); print(c)"
      ],
      "metadata": {
        "colab": {
          "base_uri": "https://localhost:8080/"
        },
        "id": "zX5lg1Sn7jww",
        "outputId": "ae879ec1-b29a-4eef-cb07-ec80e6f67b0d"
      },
      "execution_count": 7,
      "outputs": [
        {
          "output_type": "stream",
          "name": "stdout",
          "text": [
            "3\n",
            "-1\n",
            "2\n",
            "0.5\n"
          ]
        }
      ]
    },
    {
      "cell_type": "markdown",
      "source": [
        "def 함수이름 (입력변수) : \n",
        "\n",
        "입력이 여러 개면 , 찍고 적으면 됨.\n",
        "(입력변수1,입력변수2)이렇게. \n",
        "\n",
        "뒤에 꼭 : 찍기.\n",
        "\n",
        "입력변수 자리에 함수에 대한 정의에 대한 내용를 넣고 \n",
        "ex. c=a+b\n",
        "\n",
        "함수는 입력이 있고 출력이 있음. \n",
        "return이라고 하고 출력변수명을 적으면 됨. (이것도 여러 개 적어도 됨) \n",
        "\n",
        "def->함수를 정의한다. \n",
        "\n",
        "정의는 쓰는 것과는 다름. print함수를 썼는데, 그건 누군가가 어디에 정의를 해놨기 때문에 쓸 수 있는 것. \n",
        "\n",
        "def add(a,b):\n",
        "  c=a+b\n",
        "  return c\n",
        "\n",
        "이거랑 같음. \n",
        "\n",
        "위의 것 먼저 실행해야 함. 정의가 되는 것. 그래야 아래 함수가 실행이 됨. \n",
        "\n",
        "함수는 정의를 해야한다. 입력 출력의 관계가 선택적으로. "
      ],
      "metadata": {
        "id": "4pVRykQ06puC"
      }
    },
    {
      "cell_type": "markdown",
      "source": [
        "## **Syntax**"
      ],
      "metadata": {
        "id": "m8kPfhZeS8jN"
      }
    },
    {
      "cell_type": "markdown",
      "source": [
        "Syntax: 대표적인 게 반복문, 조건문. \n",
        "\n",
        "반복문: 주로 for 를 사용\n",
        "\n",
        "조건문: 주로 if 를 사용\n",
        "\n",
        "\n",
        "\n",
        "words: 변수"
      ],
      "metadata": {
        "id": "k-CYIaLK74cM"
      }
    },
    {
      "cell_type": "code",
      "source": [
        "a = [1, 2, 3, 4]\n",
        "for i in a:\n",
        "    print(i)"
      ],
      "metadata": {
        "colab": {
          "base_uri": "https://localhost:8080/"
        },
        "id": "9UkSgpzO7--y",
        "outputId": "749b4845-8ca6-4a4d-b98c-5f37db7d494b"
      },
      "execution_count": null,
      "outputs": [
        {
          "output_type": "stream",
          "name": "stdout",
          "text": [
            "1\n",
            "2\n",
            "3\n",
            "4\n"
          ]
        }
      ]
    },
    {
      "cell_type": "markdown",
      "source": [
        "for는 어떻게 해석을 해야 하는가? \n",
        "\n",
        "for i in a:\n",
        "\n",
        "  (반드시 인덴트 해줘야 함) print (i)\n",
        "\n",
        "인덴트가 있어야 for 안에 있다고 해석됨.\n",
        " \n",
        " in a 먼저 해석. a에 있는 것들을 i로 처음부터 '하나하나씩' 받아서 돌린다. \n",
        "\n",
        "a에서 하나씩 받아서 실행하는 것. 이걸 for loop라고 함. a의 개수대로 4번 돌리는 것.  "
      ],
      "metadata": {
        "id": "0nnxSUMN8zyr"
      }
    },
    {
      "cell_type": "code",
      "source": [
        "a = [1, 2, 3, 4]\n",
        "for i in range(len(a)):\n",
        "    print(a[i])"
      ],
      "metadata": {
        "colab": {
          "base_uri": "https://localhost:8080/"
        },
        "id": "RasAUbSX8BQv",
        "outputId": "09cd83db-5050-4947-ded9-bb2ec32e1116"
      },
      "execution_count": null,
      "outputs": [
        {
          "output_type": "stream",
          "name": "stdout",
          "text": [
            "1\n",
            "2\n",
            "3\n",
            "4\n"
          ]
        }
      ]
    },
    {
      "cell_type": "markdown",
      "source": [
        "위에는 list가 in 다음에 온 거고, \n",
        "\n",
        "이 경우는 in 다음에 range를 씀. \n",
        "\n",
        "range(len(a))=range(4)\n",
        "\n",
        "\n",
        "for loop에서 in 다음에 range 많이 씀. 여기에서 range(4)하면 [0,1,2,3]의 리스트가 만들어진다. \n",
        "\n",
        "첫번째 0이 들어가면 print(a[0]) 이런 식으로 도는 것. \n",
        "\n",
        "in 다음에는 range를 써서 index를 만들어버리는 것도 가능함. \n",
        "\n",
        "위의 경우는 리스트가 바로 들어간 경우\n",
        "\n",
        "이 경우는 인덱스를 이용한 경우. \n",
        "\n",
        "range는 따로 잘 쓰지 않음. for의 in 다음에 자주 쓰인다. \n"
      ],
      "metadata": {
        "id": "y-wm30PF9Vly"
      }
    },
    {
      "cell_type": "code",
      "source": [
        "a = ['red', 'green', 'blue', 'purple']\n",
        "for i in a:\n",
        "    print(i)"
      ],
      "metadata": {
        "colab": {
          "base_uri": "https://localhost:8080/"
        },
        "id": "xfFFNQ138Ek2",
        "outputId": "7cff5ae7-cd18-4a48-eb43-3888e82d4b5a"
      },
      "execution_count": null,
      "outputs": [
        {
          "output_type": "stream",
          "name": "stdout",
          "text": [
            "red\n",
            "green\n",
            "blue\n",
            "purple\n"
          ]
        }
      ]
    },
    {
      "cell_type": "markdown",
      "source": [
        "이 경우도 똑같음. 첫 번째랑 같은 경우. "
      ],
      "metadata": {
        "id": "Y3Am08zJ9_32"
      }
    },
    {
      "cell_type": "code",
      "source": [
        "a = ['red', 'green', 'blue', 'purple']\n",
        "for i in range(len(a)):\n",
        "    print(a[i])"
      ],
      "metadata": {
        "id": "eELcdh368HCr",
        "colab": {
          "base_uri": "https://localhost:8080/"
        },
        "outputId": "62d5ab8a-17bd-4d27-a8d1-456ee662faa6"
      },
      "execution_count": 8,
      "outputs": [
        {
          "output_type": "stream",
          "name": "stdout",
          "text": [
            "red\n",
            "green\n",
            "blue\n",
            "purple\n"
          ]
        }
      ]
    },
    {
      "cell_type": "code",
      "source": [
        "a = 0\n",
        "if a == 0:\n",
        "    print(a)\n",
        "else:\n",
        "    print(a+1)"
      ],
      "metadata": {
        "colab": {
          "base_uri": "https://localhost:8080/"
        },
        "id": "ZpqP0Pjt8K21",
        "outputId": "73d67cd5-0105-47ad-d969-923a4470d766"
      },
      "execution_count": 9,
      "outputs": [
        {
          "output_type": "stream",
          "name": "stdout",
          "text": [
            "0\n"
          ]
        }
      ]
    },
    {
      "cell_type": "markdown",
      "source": [
        "a=0 ->a에 0이 들어감.\n",
        "\n",
        "if 다음에 a==0-> 이게 같다는 의미.\n",
        "\n",
        "반드시 뒤에 : 표시하기.\n",
        "\n",
        "=는 equal sign 아님. \n",
        "\n",
        "이것도 print 앞에 인덴트 넣어줘야 함.(if의 하위다)\n",
        "\n",
        "아니라면은 !=\n",
        "\n",
        "if a !=0:\n",
        "\n",
        "  print (a) \n",
        "\n",
        "이러면 아무 일도 안 일어남. \n",
        "\n",
        "else: (:꼭 붙여주기) \n",
        "\n",
        "\n",
        "if/else 둘 중 하나만 실행될 것. \n"
      ],
      "metadata": {
        "id": "XLlqWYNJ-S4p"
      }
    },
    {
      "cell_type": "code",
      "source": [
        "for i in range(1, 3):\n",
        "    for j in range(3, 5):\n",
        "        print(i*j)"
      ],
      "metadata": {
        "colab": {
          "base_uri": "https://localhost:8080/"
        },
        "id": "PvBx0T-38NJ-",
        "outputId": "bbc12bfe-3971-4c3e-8af0-97f080149487"
      },
      "execution_count": null,
      "outputs": [
        {
          "output_type": "stream",
          "name": "stdout",
          "text": [
            "3\n",
            "4\n",
            "6\n",
            "8\n"
          ]
        }
      ]
    },
    {
      "cell_type": "markdown",
      "source": [
        "for를 중첩해서 쓸 수 있음. \n",
        "\n",
        "range(4)->[0,1,2,3]\n",
        "\n",
        "range(1,3)->[1,2]\n",
        "\n",
        "range(3,5)->[3,4]\n",
        "\n",
        "\n",
        "이거 보면 \n",
        "i에 1이 들어간 상태에서 아래 for로 내려가면 3이 j로 들어감. 1*3=3. \n",
        "\n",
        "다음 위에 1 고정 상태에서 j가 4. 1*4=4\n",
        "\n",
        "다음 2 들어간 상태에서 j가 3. 2*3=6\n",
        "\n",
        "다음 2 들어간 상태에서 j가 4, 2*4=8\n"
      ],
      "metadata": {
        "id": "ya9vw7TW-5l8"
      }
    },
    {
      "cell_type": "code",
      "source": [
        "for i in range(1, 3):\n",
        "    for j in range(3, 5):\n",
        "        if j >=4:\n",
        "            print(i*j)"
      ],
      "metadata": {
        "colab": {
          "base_uri": "https://localhost:8080/"
        },
        "id": "hqKppuwi8QIm",
        "outputId": "2495da2e-57e3-485e-98b0-61c1429cc84e"
      },
      "execution_count": null,
      "outputs": [
        {
          "output_type": "stream",
          "name": "stdout",
          "text": [
            "4\n",
            "8\n"
          ]
        }
      ]
    },
    {
      "cell_type": "markdown",
      "source": [
        "j 가 4보다 같거나 클 경우만 프린트하라. "
      ],
      "metadata": {
        "id": "OZzVVlD3_YSE"
      }
    },
    {
      "cell_type": "code",
      "source": [
        "a = [1, 2, 3, 4]\n",
        "b = [i for i in a if i >=2]\n",
        "b"
      ],
      "metadata": {
        "colab": {
          "base_uri": "https://localhost:8080/"
        },
        "id": "QZ8eUTiF8Sb0",
        "outputId": "69ff15db-60a0-4497-d599-289b366b9906"
      },
      "execution_count": null,
      "outputs": [
        {
          "output_type": "execute_result",
          "data": {
            "text/plain": [
              "[2, 3, 4]"
            ]
          },
          "metadata": {},
          "execution_count": 32
        }
      ]
    },
    {
      "cell_type": "markdown",
      "source": [
        "list comprehension\n",
        "\n",
        "list 안쪽에 for문이 들어와있음. \n",
        "\n",
        "a에 있는 게 for를 도는 것. \n",
        "\n",
        "a에 있는 것을 하나하나씩 i로 받는다. \n",
        "(0314)\n",
        "\n",
        "조건을 만족시키면 맨 앞의 i에 넣어라. "
      ],
      "metadata": {
        "id": "faveflQk_iGE"
      }
    },
    {
      "cell_type": "code",
      "source": [
        "a = ['red', 'green', 'blue', 'purple']\n",
        "b = [i for i in a if len(i) >=4]\n",
        "b"
      ],
      "metadata": {
        "colab": {
          "base_uri": "https://localhost:8080/"
        },
        "id": "A5n9cUvK8U7N",
        "outputId": "a699646c-aff3-4115-a63a-29e02eff3c2b"
      },
      "execution_count": null,
      "outputs": [
        {
          "output_type": "execute_result",
          "data": {
            "text/plain": [
              "['green', 'blue', 'purple']"
            ]
          },
          "metadata": {},
          "execution_count": 33
        }
      ]
    },
    {
      "cell_type": "markdown",
      "source": [
        "이것도 list comprehension"
      ],
      "metadata": {
        "id": "WrjTfqLP_zhu"
      }
    },
    {
      "cell_type": "code",
      "source": [
        "a = ['red', 'green', 'blue', 'purple']\n",
        "b = [1, 2, 3, 4]\n",
        "c = {a[i]:b[i] for i in range(4)}\n",
        "c"
      ],
      "metadata": {
        "colab": {
          "base_uri": "https://localhost:8080/"
        },
        "id": "7wXkTVK28XBG",
        "outputId": "07a0459c-4b78-4466-cf5d-db6b7921f71f"
      },
      "execution_count": null,
      "outputs": [
        {
          "output_type": "execute_result",
          "data": {
            "text/plain": [
              "{'blue': 3, 'green': 2, 'purple': 4, 'red': 1}"
            ]
          },
          "metadata": {},
          "execution_count": 34
        }
      ]
    },
    {
      "cell_type": "markdown",
      "source": [
        "dict comprehension\n",
        "\n",
        "dict 안쪽에 for 들어와있음. \n",
        "\n",
        "range(4)->[0,1,2,3]\n",
        "\n",
        "순서는 중요하지 않음. "
      ],
      "metadata": {
        "id": "08bqPRSv_kdO"
      }
    },
    {
      "cell_type": "markdown",
      "source": [
        "## **import**"
      ],
      "metadata": {
        "id": "lHo-BXhxY7X2"
      }
    },
    {
      "cell_type": "markdown",
      "source": [
        "누군가가 만들어둔 패키지를 실행시키는 것. 남들이 만들어둔 패키지 불러오는 것을 import라고 함. \n",
        "\n",
        "\n",
        "install: 파일 자체를 컴퓨터(구글컴퓨터)에 까는 것. 특히 유명하지 않은 패키지. \n",
        "\n",
        "import: 유명한 것들은 대부분 install 되어있음. ram에 올려놓는다. 바로 쓸 수 있게. \n",
        "\n",
        "built-in: print 함수같은 것은 빌트인.\n",
        "\n",
        "\n",
        "numpy를 먼저 실행시킨다. \n",
        "\n",
        "numpy 패키지: random number generate 등을 할 수 있음. AI, data science의 가장 중요한 패키지. \n",
        "\n",
        "numpy import 안 해오면 실행이 안 됨. \n"
      ],
      "metadata": {
        "id": "lS2GZzNlBitd"
      }
    },
    {
      "cell_type": "code",
      "source": [
        "import numpy"
      ],
      "metadata": {
        "id": "GFhNED2JagG4"
      },
      "execution_count": 12,
      "outputs": []
    },
    {
      "cell_type": "markdown",
      "source": [
        "numpy.random.randn(5)\n",
        "->넘피 안에 랜덤이라는 디렉토리 들어있고 그 속에 randn이라는 함수가 있음. 그러면 5개의 랜덤넘버가 만들어짐. \n",
        "\n",
        "이는 정규분포 따르는(평균 0, 표준편차 1) 속에서 만들어짐. \n",
        "\n",
        "restart runtime: 실행 되돌림. "
      ],
      "metadata": {
        "id": "6FLHQ3niakFp"
      }
    },
    {
      "cell_type": "code",
      "source": [
        "import numpy as np\n",
        "n = np.random.randn(100)"
      ],
      "metadata": {
        "id": "c1L3c50ZBDc5"
      },
      "execution_count": 14,
      "outputs": []
    },
    {
      "cell_type": "markdown",
      "source": [
        "numpy가 쓰기 귀찮으니까 np로 줄여줌. \n",
        "\n",
        "100개의 랜덤넘버 만들어지고, 이걸 n이라는 변수에 넣음. \n"
      ],
      "metadata": {
        "id": "MksnDIWKbL8O"
      }
    },
    {
      "cell_type": "code",
      "source": [
        "import matplotlib\n",
        "matplotlib.pyplot.hist(n)"
      ],
      "metadata": {
        "colab": {
          "base_uri": "https://localhost:8080/",
          "height": 354
        },
        "id": "EEy8rZWcBIUX",
        "outputId": "80704d10-4162-453d-9407-6aa8801abd82"
      },
      "execution_count": 15,
      "outputs": [
        {
          "output_type": "execute_result",
          "data": {
            "text/plain": [
              "(array([ 1.,  3., 12., 21., 25., 18., 12.,  5.,  2.,  1.]),\n",
              " array([-2.62743796, -2.04107409, -1.45471023, -0.86834637, -0.2819825 ,\n",
              "         0.30438136,  0.89074523,  1.47710909,  2.06347296,  2.64983682,\n",
              "         3.23620068]),\n",
              " <a list of 10 Patch objects>)"
            ]
          },
          "metadata": {},
          "execution_count": 15
        },
        {
          "output_type": "display_data",
          "data": {
            "text/plain": [
              "<Figure size 432x288 with 1 Axes>"
            ],
            "image/png": "[encoded data removed]"
          },
          "metadata": {
            "needs_background": "light"
          }
        }
      ]
    },
    {
      "cell_type": "markdown",
      "source": [
        "matplotlib라는 패키지도 불러옴. visualize 해주는 것으로 유명함. \n",
        "\n",
        "matplotlib 안에 pyplot이라는 디렉토리 안에 있는 hist(히스토그램 그려줌)라는 함수. \n",
        "\n",
        "그림을 그려줌. 랜덤넘버 다시 만들고 다시 실행하면 다른 그림이 나옴. 그게 랜덤넘버의 특징. \n",
        "\n",
        "랜덤넘버는 0을 평균값으로 함. \n",
        "\n",
        "10개의 칸에 이 숫자에 몇 번이 나오는가. \n",
        "\n",
        "x축은 숫자들이고,\n",
        "\n",
        "y축은 frequency 횟수다.\n",
        "\n"
      ],
      "metadata": {
        "id": "6G2ydP60Caok"
      }
    },
    {
      "cell_type": "code",
      "source": [
        "import matplotlib.pyplot\n",
        "matplotlib.pyplot.hist(n)"
      ],
      "metadata": {
        "colab": {
          "base_uri": "https://localhost:8080/",
          "height": 354
        },
        "id": "nomW34DgBOJK",
        "outputId": "4355127e-dab7-49b6-dfbe-bf6eceb056ee"
      },
      "execution_count": null,
      "outputs": [
        {
          "output_type": "execute_result",
          "data": {
            "text/plain": [
              "(array([ 6.,  7.,  8., 14., 21., 19., 17.,  4.,  2.,  2.]),\n",
              " array([-2.2396064 , -1.74206509, -1.24452379, -0.74698248, -0.24944118,\n",
              "         0.24810012,  0.74564143,  1.24318273,  1.74072404,  2.23826534,\n",
              "         2.73580665]),\n",
              " <a list of 10 Patch objects>)"
            ]
          },
          "metadata": {},
          "execution_count": 38
        },
        {
          "output_type": "display_data",
          "data": {
            "text/plain": [
              "<Figure size 432x288 with 1 Axes>"
            ],
            "image/png": "[encoded data removed]"
          },
          "metadata": {
            "needs_background": "light"
          }
        }
      ]
    },
    {
      "cell_type": "markdown",
      "source": [
        "하위 디렉토리까지 import를 해서 써도 괜찮음. \n",
        "\n",
        "근데 너무 귀찮음. "
      ],
      "metadata": {
        "id": "YkyRWERxcMnj"
      }
    },
    {
      "cell_type": "code",
      "source": [
        "import matplotlib.pyplot as plt\n",
        "plt.hist(n)"
      ],
      "metadata": {
        "colab": {
          "base_uri": "https://localhost:8080/",
          "height": 354
        },
        "id": "OiB0v9vWBQvC",
        "outputId": "3ba9f11e-6f8e-462a-e647-b37ad144d656"
      },
      "execution_count": null,
      "outputs": [
        {
          "output_type": "execute_result",
          "data": {
            "text/plain": [
              "(array([ 6.,  7.,  8., 14., 21., 19., 17.,  4.,  2.,  2.]),\n",
              " array([-2.2396064 , -1.74206509, -1.24452379, -0.74698248, -0.24944118,\n",
              "         0.24810012,  0.74564143,  1.24318273,  1.74072404,  2.23826534,\n",
              "         2.73580665]),\n",
              " <a list of 10 Patch objects>)"
            ]
          },
          "metadata": {},
          "execution_count": 39
        },
        {
          "output_type": "display_data",
          "data": {
            "text/plain": [
              "<Figure size 432x288 with 1 Axes>"
            ],
            "image/png": "[encoded data removed]"
          },
          "metadata": {
            "needs_background": "light"
          }
        }
      ]
    },
    {
      "cell_type": "markdown",
      "source": [
        "matplotlib.pyplot를 plt로 줄여서 써라. \n",
        "\n",
        "from import를 쓰면 import as처럼 축약해서 부를 수 있는 효과"
      ],
      "metadata": {
        "id": "taFcbKzhBYJi"
      }
    },
    {
      "cell_type": "code",
      "source": [
        "from matplotlib import pyplot\n",
        "pyplot.hist(n)"
      ],
      "metadata": {
        "colab": {
          "base_uri": "https://localhost:8080/",
          "height": 354
        },
        "id": "XMjvvLWLBZHz",
        "outputId": "6e782615-1d8d-478b-eeef-4e411c0639be"
      },
      "execution_count": null,
      "outputs": [
        {
          "output_type": "execute_result",
          "data": {
            "text/plain": [
              "(array([ 6.,  7.,  8., 14., 21., 19., 17.,  4.,  2.,  2.]),\n",
              " array([-2.2396064 , -1.74206509, -1.24452379, -0.74698248, -0.24944118,\n",
              "         0.24810012,  0.74564143,  1.24318273,  1.74072404,  2.23826534,\n",
              "         2.73580665]),\n",
              " <a list of 10 Patch objects>)"
            ]
          },
          "metadata": {},
          "execution_count": 40
        },
        {
          "output_type": "display_data",
          "data": {
            "text/plain": [
              "<Figure size 432x288 with 1 Axes>"
            ],
            "image/png": "[encoded data removed]"
          },
          "metadata": {
            "needs_background": "light"
          }
        }
      ]
    },
    {
      "cell_type": "code",
      "source": [
        "from matplotlib.pyplot import hist\n",
        "hist(n)"
      ],
      "metadata": {
        "colab": {
          "base_uri": "https://localhost:8080/",
          "height": 354
        },
        "id": "1yWcum8nBfAd",
        "outputId": "fd5c041a-8c01-44dc-9ff2-e2c18daa9e0d"
      },
      "execution_count": null,
      "outputs": [
        {
          "output_type": "execute_result",
          "data": {
            "text/plain": [
              "(array([ 6.,  7.,  8., 14., 21., 19., 17.,  4.,  2.,  2.]),\n",
              " array([-2.2396064 , -1.74206509, -1.24452379, -0.74698248, -0.24944118,\n",
              "         0.24810012,  0.74564143,  1.24318273,  1.74072404,  2.23826534,\n",
              "         2.73580665]),\n",
              " <a list of 10 Patch objects>)"
            ]
          },
          "metadata": {},
          "execution_count": 41
        },
        {
          "output_type": "display_data",
          "data": {
            "text/plain": [
              "<Figure size 432x288 with 1 Axes>"
            ],
            "image/png": "[encoded data removed]"
          },
          "metadata": {
            "needs_background": "light"
          }
        }
      ]
    },
    {
      "cell_type": "markdown",
      "source": [
        "create nd arrays (≈matrices)"
      ],
      "metadata": {
        "id": "mspZSxsmDuse"
      }
    },
    {
      "cell_type": "code",
      "source": [
        "import numpy as np"
      ],
      "metadata": {
        "id": "NrU4LlbnDrAB"
      },
      "execution_count": null,
      "outputs": []
    },
    {
      "cell_type": "markdown",
      "source": [
        "matrix: 행렬\n",
        "\n",
        "행렬은 직사각형의 숫자 배열이다. \n",
        "\n",
        "직사각형인데, 다양한 직사각형이 나올 수 있음. 입체로도 할 수 있다. \n",
        "\n",
        "nd array: n 차원 array. \n",
        "\n"
      ],
      "metadata": {
        "id": "F3uPwsSwHwrX"
      }
    },
    {
      "cell_type": "code",
      "source": [
        "x = np.array([1,2,3])\n",
        "print(x)\n",
        "print(type(x))\n",
        "print(x.shape)"
      ],
      "metadata": {
        "colab": {
          "base_uri": "https://localhost:8080/"
        },
        "id": "i1TL8le4Gqcc",
        "outputId": "8d776b7f-77a3-4da8-af48-b19cc0458bca"
      },
      "execution_count": null,
      "outputs": [
        {
          "output_type": "stream",
          "name": "stdout",
          "text": [
            "[1 2 3]\n",
            "<class 'numpy.ndarray'>\n",
            "(3,)\n"
          ]
        }
      ]
    },
    {
      "cell_type": "markdown",
      "source": [
        "list는 계산이 될 수 없음. List를 array로 바꿔줘야 함. "
      ],
      "metadata": {
        "id": "XY-iZ-T2IstU"
      }
    },
    {
      "cell_type": "code",
      "source": [
        "x = np.arange(0,10,2)\n",
        "print(x)\n",
        "print(type(x))\n",
        "print(x.shape)"
      ],
      "metadata": {
        "colab": {
          "base_uri": "https://localhost:8080/"
        },
        "id": "Qukc-_QDGtTB",
        "outputId": "cdb9d899-121c-4926-926a-63208f74c45b"
      },
      "execution_count": null,
      "outputs": [
        {
          "output_type": "stream",
          "name": "stdout",
          "text": [
            "[0 2 4 6 8]\n",
            "<class 'numpy.ndarray'>\n",
            "(5,)\n"
          ]
        }
      ]
    },
    {
      "cell_type": "code",
      "source": [
        "x = np.linspace(0,10,6)\n",
        "print(x)\n",
        "print(type(x))\n",
        "print(x.shape)"
      ],
      "metadata": {
        "colab": {
          "base_uri": "https://localhost:8080/"
        },
        "id": "oXrk3iQXGxRt",
        "outputId": "49a1983c-c6ba-4134-863f-a6a1b12ccc72"
      },
      "execution_count": null,
      "outputs": [
        {
          "output_type": "stream",
          "name": "stdout",
          "text": [
            "[ 0.  2.  4.  6.  8. 10.]\n",
            "<class 'numpy.ndarray'>\n",
            "(6,)\n"
          ]
        }
      ]
    },
    {
      "cell_type": "code",
      "source": [
        "x = np.array([[1,2,3], [4,5,6]])\n",
        "print(x)\n",
        "print(type(x))\n",
        "print(x.shape)"
      ],
      "metadata": {
        "colab": {
          "base_uri": "https://localhost:8080/"
        },
        "id": "YmmEthRhG0Ma",
        "outputId": "dc0524ac-3802-4858-8498-e89eb7a9d06e"
      },
      "execution_count": null,
      "outputs": [
        {
          "output_type": "stream",
          "name": "stdout",
          "text": [
            "[[1 2 3]\n",
            " [4 5 6]]\n",
            "<class 'numpy.ndarray'>\n",
            "(2, 3)\n"
          ]
        }
      ]
    },
    {
      "cell_type": "code",
      "source": [
        "x = np.array([[[1,2,3], [4,5,6]], [[7,8,9], [10,11,12]]])\n",
        "print(x)\n",
        "print(type(x))\n",
        "print(x.shape)"
      ],
      "metadata": {
        "colab": {
          "base_uri": "https://localhost:8080/"
        },
        "id": "zj7Pou8fG3Ep",
        "outputId": "a73cbaa4-1d8b-4771-8e90-361c7bc6eca0"
      },
      "execution_count": null,
      "outputs": [
        {
          "output_type": "stream",
          "name": "stdout",
          "text": [
            "[[[ 1  2  3]\n",
            "  [ 4  5  6]]\n",
            "\n",
            " [[ 7  8  9]\n",
            "  [10 11 12]]]\n",
            "<class 'numpy.ndarray'>\n",
            "(2, 2, 3)\n"
          ]
        }
      ]
    },
    {
      "cell_type": "code",
      "source": [
        "x = np.ones([2, 2, 3])\n",
        "print(x)\n",
        "print(type(x))\n",
        "print(x.shape)"
      ],
      "metadata": {
        "colab": {
          "base_uri": "https://localhost:8080/"
        },
        "id": "FEqEcF_sG56Z",
        "outputId": "b86f48c9-9268-4da5-f8c2-cfd8c6290c60"
      },
      "execution_count": null,
      "outputs": [
        {
          "output_type": "stream",
          "name": "stdout",
          "text": [
            "[[[1. 1. 1.]\n",
            "  [1. 1. 1.]]\n",
            "\n",
            " [[1. 1. 1.]\n",
            "  [1. 1. 1.]]]\n",
            "<class 'numpy.ndarray'>\n",
            "(2, 2, 3)\n"
          ]
        }
      ]
    },
    {
      "cell_type": "code",
      "source": [
        "x = np.zeros([2, 2, 3])\n",
        "print(x)\n",
        "print(type(x))\n",
        "print(x.shape)\n",
        "x.reshape(3,2,2)"
      ],
      "metadata": {
        "colab": {
          "base_uri": "https://localhost:8080/"
        },
        "id": "4zjCprCxG9Bn",
        "outputId": "6c47c5cb-69c0-4cb4-8d8f-64a774d821e1"
      },
      "execution_count": null,
      "outputs": [
        {
          "output_type": "stream",
          "name": "stdout",
          "text": [
            "[[[0. 0. 0.]\n",
            "  [0. 0. 0.]]\n",
            "\n",
            " [[0. 0. 0.]\n",
            "  [0. 0. 0.]]]\n",
            "<class 'numpy.ndarray'>\n",
            "(2, 2, 3)\n"
          ]
        },
        {
          "output_type": "execute_result",
          "data": {
            "text/plain": [
              "array([[[0., 0.],\n",
              "        [0., 0.]],\n",
              "\n",
              "       [[0., 0.],\n",
              "        [0., 0.]],\n",
              "\n",
              "       [[0., 0.],\n",
              "        [0., 0.]]])"
            ]
          },
          "metadata": {},
          "execution_count": 49
        }
      ]
    },
    {
      "cell_type": "markdown",
      "source": [
        "create random numbers"
      ],
      "metadata": {
        "id": "hvSrlnBkHALv"
      }
    },
    {
      "cell_type": "code",
      "source": [
        "np.random.normal(0, 1, [2,3,4])"
      ],
      "metadata": {
        "colab": {
          "base_uri": "https://localhost:8080/"
        },
        "id": "GnNiOx4-G_19",
        "outputId": "6942165c-7b42-4638-99e7-9aaa7bafcf06"
      },
      "execution_count": null,
      "outputs": [
        {
          "output_type": "execute_result",
          "data": {
            "text/plain": [
              "array([[[ 0.53847806, -0.74062128,  1.68142726,  1.51214475],\n",
              "        [ 0.57177003, -0.11513469,  1.20622053,  1.01099634],\n",
              "        [-0.12211515, -0.70156368, -0.11841251,  1.43129722]],\n",
              "\n",
              "       [[ 0.35723703,  0.49903332,  0.349834  , -2.13365054],\n",
              "        [-0.3649343 , -0.18945209, -1.81851577, -0.61853663],\n",
              "        [-0.27041498, -0.18804257, -0.46134155, -1.2101068 ]]])"
            ]
          },
          "metadata": {},
          "execution_count": 50
        }
      ]
    },
    {
      "cell_type": "code",
      "source": [
        "import matplotlib.pyplot as plt"
      ],
      "metadata": {
        "id": "Dlji3QXJHFuN"
      },
      "execution_count": null,
      "outputs": []
    },
    {
      "cell_type": "code",
      "source": [
        "x = np.random.normal(0, 1, 100)\n",
        "print(x)\n",
        "plt.hist(x, bins=10)"
      ],
      "metadata": {
        "colab": {
          "base_uri": "https://localhost:8080/",
          "height": 661
        },
        "id": "VFqmzixtHIg5",
        "outputId": "361acb68-7be9-4cca-c816-17731566cc7b"
      },
      "execution_count": null,
      "outputs": [
        {
          "output_type": "stream",
          "name": "stdout",
          "text": [
            "[ 0.34987085 -0.89807405  0.72213701  0.27720614 -0.64203852 -0.74703969\n",
            " -0.90142154 -0.03254245 -1.29450374 -0.53578984  0.27300485  0.4772629\n",
            "  0.54137103  0.95462743 -0.88979241  0.54183245 -1.30260163 -0.92339119\n",
            "  0.1118516  -0.85180249  0.93484507  0.746593    0.29989722 -0.14459434\n",
            "  0.64179001  0.88765572 -0.95522879 -1.16484677  0.10201046  0.05408386\n",
            "  1.15066765 -0.51483943  0.71982715 -0.48049325 -0.62632643  0.2356508\n",
            " -1.00682205  1.51138837  0.02719451  2.47407041  1.38814924  0.20729487\n",
            " -0.00661318 -0.05989019 -1.16716502 -0.51300065  0.5776971   1.36132685\n",
            "  0.14167488 -0.31665781  0.3222251   0.8673099   1.5260505   0.50089802\n",
            "  0.15477163  0.01141828  1.68230441 -0.16628383  0.07753254  0.9890421\n",
            " -1.07295651  1.74004825 -0.29530976 -0.09033359  0.74897412  2.3022293\n",
            " -1.0435744  -1.2668438  -3.27450969 -1.17384699 -0.47595127 -0.42934493\n",
            "  1.0496533   0.57789568 -0.37685197  1.14787737  0.61461174 -1.05004646\n",
            "  1.34526191 -1.36146919  0.74590136  1.42515454 -2.06843401 -0.01871698\n",
            "  1.50295999  1.24342494 -1.04299535 -0.69638568  0.66160323  0.31048571\n",
            "  0.1920458   0.51474897  0.02201452 -1.41508455 -1.81635825 -0.39174496\n",
            " -0.47547755 -1.22134956 -0.49226059  1.04333922]\n"
          ]
        },
        {
          "output_type": "execute_result",
          "data": {
            "text/plain": [
              "(array([ 1.,  0.,  2., 14., 18., 20., 24., 10.,  9.,  2.]),\n",
              " array([-3.27450969, -2.69965168, -2.12479367, -1.54993566, -0.97507765,\n",
              "        -0.40021964,  0.17463837,  0.74949638,  1.32435439,  1.8992124 ,\n",
              "         2.47407041]),\n",
              " <a list of 10 Patch objects>)"
            ]
          },
          "metadata": {},
          "execution_count": 52
        },
        {
          "output_type": "display_data",
          "data": {
            "text/plain": [
              "<Figure size 432x288 with 1 Axes>"
            ],
            "image/png": "[encoded data removed]"
          },
          "metadata": {
            "needs_background": "light"
          }
        }
      ]
    },
    {
      "cell_type": "markdown",
      "source": [
        "generate a sine curve"
      ],
      "metadata": {
        "id": "lT-U8iMDHLjb"
      }
    },
    {
      "cell_type": "code",
      "source": [
        "plt.figure()\n",
        "\n",
        "theta1 = np.linspace(0, 2*np.pi, 100)\n",
        "s1 = np.sin(theta1)\n",
        "theta2 = np.linspace(0, 2*np.pi, 100) + np.pi/2\n",
        "s2 = np.sin(theta2)\n",
        "\n",
        "plt.subplot(2, 1, 1) # (rows, columns, panel number)\n",
        "plt.plot(theta1, s1, '.')\n",
        "plt.subplot(2, 1, 2) # (rows, columns, panel number)\n",
        "plt.plot(theta2, s2, '.')"
      ],
      "metadata": {
        "colab": {
          "base_uri": "https://localhost:8080/",
          "height": 283
        },
        "id": "0Ipsv128HOT2",
        "outputId": "9af09e01-95e1-40be-9e7f-07f7e7cdced5"
      },
      "execution_count": null,
      "outputs": [
        {
          "output_type": "execute_result",
          "data": {
            "text/plain": [
              "[<matplotlib.lines.Line2D at 0x7f856672d390>]"
            ]
          },
          "metadata": {},
          "execution_count": 53
        },
        {
          "output_type": "display_data",
          "data": {
            "text/plain": [
              "<Figure size 432x288 with 2 Axes>"
            ],
            "image/png": "[encoded data removed]"
          },
          "metadata": {
            "needs_background": "light"
          }
        }
      ]
    },
    {
      "cell_type": "code",
      "source": [
        "np.corrcoef(s1,s2)"
      ],
      "metadata": {
        "colab": {
          "base_uri": "https://localhost:8080/"
        },
        "id": "0d1naC1zHSKe",
        "outputId": "c9d28b89-f4b9-4f66-c402-2d72dd19797d"
      },
      "execution_count": null,
      "outputs": [
        {
          "output_type": "execute_result",
          "data": {
            "text/plain": [
              "array([[1.00000000e+00, 2.41915449e-17],\n",
              "       [2.41915449e-17, 1.00000000e+00]])"
            ]
          },
          "metadata": {},
          "execution_count": 54
        }
      ]
    }
  ]
}