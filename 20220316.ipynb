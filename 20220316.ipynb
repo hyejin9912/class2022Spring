{
  "nbformat": 4,
  "nbformat_minor": 0,
  "metadata": {
    "colab": {
      "name": "20220316.ipynb",
      "provenance": [],
      "collapsed_sections": [],
      "authorship_tag": "ABX9TyNHtd8n4+tjl6/XuHvP0Sck",
      "include_colab_link": true
    },
    "kernelspec": {
      "name": "python3",
      "display_name": "Python 3"
    },
    "language_info": {
      "name": "python"
    }
  },
  "cells": [
    {
      "cell_type": "markdown",
      "metadata": {
        "id": "view-in-github",
        "colab_type": "text"
      },
      "source": [
        "<a href=\"https://colab.research.google.com/github/hyejin9912/class2022Spring/blob/main/20220316.ipynb\" target=\"_parent\"><img src=\"https://colab.research.google.com/assets/colab-badge.svg\" alt=\"Open In Colab\"/></a>"
      ]
    },
    {
      "cell_type": "markdown",
      "source": [
        "변수(variables)는 numbers, strings, list, dict.\n",
        "\n",
        "numbers: int, float\n",
        "\n",
        "정수: int (integer)\n",
        "실수: float\n",
        "\n",
        "strings(문자) \n",
        "\n",
        "list: 여러 개 담을 수 있음. (tuple 이랑 유사. tuple은 대괄호 대신 그냥 괄호가 사용됨. )\n",
        "\n",
        "dict: dictionary의 준말. \n",
        "\n"
      ],
      "metadata": {
        "id": "wvwL6sBwuwYA"
      }
    },
    {
      "cell_type": "code",
      "source": [
        "a = 1; print(type(a))"
      ],
      "metadata": {
        "colab": {
          "base_uri": "https://localhost:8080/",
          "height": 0
        },
        "id": "SUd_p8PdvEvz",
        "outputId": "e5efefdb-4332-49cd-807e-265b2090a73f"
      },
      "execution_count": 1,
      "outputs": [
        {
          "output_type": "stream",
          "name": "stdout",
          "text": [
            "<class 'int'>\n"
          ]
        }
      ]
    },
    {
      "cell_type": "code",
      "source": [
        "a = 1.1; print(type(a))"
      ],
      "metadata": {
        "colab": {
          "base_uri": "https://localhost:8080/",
          "height": 0
        },
        "id": "-bWPhg7AwMng",
        "outputId": "db3958ce-3543-4bf5-f4b7-09dfa3b738a4"
      },
      "execution_count": 2,
      "outputs": [
        {
          "output_type": "stream",
          "name": "stdout",
          "text": [
            "<class 'float'>\n"
          ]
        }
      ]
    },
    {
      "cell_type": "code",
      "source": [
        "a = '123'; print(type(a)); print(a[1])"
      ],
      "metadata": {
        "colab": {
          "base_uri": "https://localhost:8080/",
          "height": 0
        },
        "id": "TXKu_UT-wRSV",
        "outputId": "8dc5a1bf-bc80-409e-c7da-aa3eadb992c7"
      },
      "execution_count": 3,
      "outputs": [
        {
          "output_type": "stream",
          "name": "stdout",
          "text": [
            "<class 'str'>\n",
            "2\n"
          ]
        }
      ]
    },
    {
      "cell_type": "markdown",
      "source": [
        "str: \"\" 나 ''를 넣어주면 됨. "
      ],
      "metadata": {
        "id": "0nj8jjeJwbSq"
      }
    },
    {
      "cell_type": "code",
      "source": [
        "a = 'hello'; print(type(a)); print(a[1])"
      ],
      "metadata": {
        "colab": {
          "base_uri": "https://localhost:8080/",
          "height": 0
        },
        "id": "-SIidnV5wnal",
        "outputId": "6ae1b5e9-24bf-47b0-fc62-5bb06746c09e"
      },
      "execution_count": 4,
      "outputs": [
        {
          "output_type": "stream",
          "name": "stdout",
          "text": [
            "<class 'str'>\n",
            "e\n"
          ]
        }
      ]
    },
    {
      "cell_type": "code",
      "source": [
        "a = [1, 2, 3, 4]; print(type(a)); print(a[0])"
      ],
      "metadata": {
        "colab": {
          "base_uri": "https://localhost:8080/",
          "height": 0
        },
        "id": "Zg2xt5faxC3M",
        "outputId": "621b01a1-671c-4f37-def7-f411a7c91ee1"
      },
      "execution_count": 5,
      "outputs": [
        {
          "output_type": "stream",
          "name": "stdout",
          "text": [
            "<class 'list'>\n",
            "1\n"
          ]
        }
      ]
    },
    {
      "cell_type": "markdown",
      "source": [
        "list: 숫자, 문자 등 여러 개가 다 들어갈 수 있다. \n",
        "\n",
        "a라는 변수에는 네 아이템이 있음. 그 중 몇 개만 부분적으로 쓰는 것을 인덱싱이라고 함. \n",
        "\n",
        "a[0]을 실행하면 1이 나옴. 0번째가 첫 번째임. \n",
        "\n",
        "제일 마지막 줄은 print를 안 쳐도 됨. \n",
        "\n",
        "a[1:2]를 실행하면 [2,3]이 나옴. \n",
        "\n",
        "a[:]는 제일 처음부터 끝까지. \n",
        "\n",
        "a[2:-1]이라고 하면, -1이 나타내는 게 맨 끝에서 하나 뺀 것까지임.\n",
        "\n",
        "\n",
        "\n",
        "\n"
      ],
      "metadata": {
        "id": "M-5gFAG5wqTS"
      }
    },
    {
      "cell_type": "code",
      "source": [
        "a = [1,'a', [3, '4']]; print(type(a)); print(a[0]); print(a[1]); print(a[2]); print(a[2][1])"
      ],
      "metadata": {
        "colab": {
          "base_uri": "https://localhost:8080/",
          "height": 0
        },
        "id": "lDrlcF0ZxSRn",
        "outputId": "97cac125-4b37-4601-8a48-6069f6fa8d74"
      },
      "execution_count": 6,
      "outputs": [
        {
          "output_type": "stream",
          "name": "stdout",
          "text": [
            "<class 'list'>\n",
            "1\n",
            "a\n",
            "[3, '4']\n",
            "4\n"
          ]
        }
      ]
    },
    {
      "cell_type": "markdown",
      "source": [
        "list 와 string 은 index 하는 방법이 똑같다. "
      ],
      "metadata": {
        "id": "ab2jz-wAzny4"
      }
    },
    {
      "cell_type": "code",
      "source": [
        "a =\t{\"a\": \"apple\", \"b\": \"orange\", \"c\": 2014}\n",
        "print(type(a))\n",
        "print(a[\"a\"])"
      ],
      "metadata": {
        "colab": {
          "base_uri": "https://localhost:8080/",
          "height": 0
        },
        "id": "_ZYDwj3NxX5k",
        "outputId": "dee1ccbd-8290-43a5-c0e2-12208c802f66"
      },
      "execution_count": 7,
      "outputs": [
        {
          "output_type": "stream",
          "name": "stdout",
          "text": [
            "<class 'dict'>\n",
            "apple\n"
          ]
        }
      ]
    },
    {
      "cell_type": "markdown",
      "source": [
        "중괄호가 있고 ,가 있음. 3개의 아이템으로 되어 있음. \n",
        "\n",
        "dict: dictionary의 준말. \n",
        "\n",
        "key와 value로 되어있음. \n",
        "\n",
        "이건 순서가 중요한 게 아니라, 앞에 있는 key의 내용을 가져와라. \n",
        "\n",
        "순서의 정보는 필요 없기 때문에, 순서를 넣으면 error. \n",
        "\n"
      ],
      "metadata": {
        "id": "ATwSZII90sWT"
      }
    },
    {
      "cell_type": "code",
      "source": [
        "s = 'abcdef'\n",
        "print(s[0], s[5], s[-1], s[-6])\n",
        "print(s[1:3], s[1:], s[:3], s[:])"
      ],
      "metadata": {
        "colab": {
          "base_uri": "https://localhost:8080/",
          "height": 0
        },
        "id": "TzkpOYKb2pTK",
        "outputId": "990bf579-f37b-4627-ce9b-d4457784be9c"
      },
      "execution_count": 8,
      "outputs": [
        {
          "output_type": "stream",
          "name": "stdout",
          "text": [
            "a f f a\n",
            "bc bcdef abc abcdef\n"
          ]
        }
      ]
    },
    {
      "cell_type": "markdown",
      "source": [
        "s[-6]번째면 뒤에서부터 6번째라고 생각하면 됨. \n",
        "\n",
        "string 과 list 는 아주 유사성을 가진다. \n",
        "\n",
        ": 있을 때-> 전부 다\n",
        "\n",
        "1: 면-> 2번째부터 끝까지\n",
        "\n",
        ":3이면-> 처음부터 네 번째까지\n",
        "\n"
      ],
      "metadata": {
        "id": "LPjHgQGF3Kkw"
      }
    },
    {
      "cell_type": "code",
      "source": [
        "n = [100, 200, 300]\n",
        "print(n[0], n[2], n[-1], n[-3])\n",
        "print(n[1:2], n[1:], n[:2], n[:])"
      ],
      "metadata": {
        "colab": {
          "base_uri": "https://localhost:8080/",
          "height": 0
        },
        "id": "cmlNpD9A3XHM",
        "outputId": "792c1a5f-8251-4a60-ffaf-57ad2695cd11"
      },
      "execution_count": 9,
      "outputs": [
        {
          "output_type": "stream",
          "name": "stdout",
          "text": [
            "100 300 300 100\n",
            "[200] [200, 300] [100, 200] [100, 200, 300]\n"
          ]
        }
      ]
    },
    {
      "cell_type": "code",
      "source": [
        "len(s)"
      ],
      "metadata": {
        "colab": {
          "base_uri": "https://localhost:8080/",
          "height": 0
        },
        "id": "O8bh-CGW3xeV",
        "outputId": "b1642222-86d0-4622-b95e-71b6958f44dd"
      },
      "execution_count": 10,
      "outputs": [
        {
          "output_type": "execute_result",
          "data": {
            "text/plain": [
              "6"
            ]
          },
          "metadata": {},
          "execution_count": 10
        }
      ]
    },
    {
      "cell_type": "markdown",
      "source": [
        "len 이라는 함수는 s의 길이를 말함. \n",
        "\n",
        "길이는 6개니까 6을 뱉어냄. \n",
        "\n",
        "S는 string."
      ],
      "metadata": {
        "id": "rLXzursV30sD"
      }
    },
    {
      "cell_type": "code",
      "source": [
        "s[1]+s[3]+s[4:]*10"
      ],
      "metadata": {
        "colab": {
          "base_uri": "https://localhost:8080/",
          "height": 36
        },
        "id": "uQ7VO1bL4JfW",
        "outputId": "c99dacd8-6541-4725-e843-722cd32ab4cc"
      },
      "execution_count": 11,
      "outputs": [
        {
          "output_type": "execute_result",
          "data": {
            "text/plain": [
              "'bdefefefefefefefefefef'"
            ],
            "application/vnd.google.colaboratory.intrinsic+json": {
              "type": "string"
            }
          },
          "metadata": {},
          "execution_count": 11
        }
      ]
    },
    {
      "cell_type": "markdown",
      "source": [
        "s[4:]는 다섯 번째부터 끝까지, 그리고 이걸 10번 곱합. \n",
        "\n",
        "function: 기본적으로 입출력을 가지고 있음. \n",
        "\n",
        "파이썬에서 함수는 괄호를 반드시 써야 함. 코드 상에서 괄호가 보이면 이게 함수구나, 추론할 수 있음. \n",
        "\n",
        "len 도 함수임. s 라는 string 의 길이를 계산하라. "
      ],
      "metadata": {
        "id": "mZvSlLSP4LPj"
      }
    },
    {
      "cell_type": "code",
      "source": [
        "s.upper()"
      ],
      "metadata": {
        "colab": {
          "base_uri": "https://localhost:8080/",
          "height": 36
        },
        "id": "UJeyPn6I4d79",
        "outputId": "97ca8eac-6963-4343-82d8-5de41aca217e"
      },
      "execution_count": 12,
      "outputs": [
        {
          "output_type": "execute_result",
          "data": {
            "text/plain": [
              "'ABCDEF'"
            ],
            "application/vnd.google.colaboratory.intrinsic+json": {
              "type": "string"
            }
          },
          "metadata": {},
          "execution_count": 12
        }
      ]
    },
    {
      "cell_type": "markdown",
      "source": [
        "upper도 함수의 형태. 대문자로 만들어줌. "
      ],
      "metadata": {
        "id": "iy7fZWK240-c"
      }
    },
    {
      "cell_type": "code",
      "source": [
        "s = ' this is a house built this year.\\n' \t\n",
        "s"
      ],
      "metadata": {
        "colab": {
          "base_uri": "https://localhost:8080/",
          "height": 36
        },
        "id": "73LybB4s47Il",
        "outputId": "1e4d20a4-2557-40b6-c761-4b72936dcbec"
      },
      "execution_count": 13,
      "outputs": [
        {
          "output_type": "execute_result",
          "data": {
            "text/plain": [
              "' this is a house built this year.\\n'"
            ],
            "application/vnd.google.colaboratory.intrinsic+json": {
              "type": "string"
            }
          },
          "metadata": {},
          "execution_count": 13
        }
      ]
    },
    {
      "cell_type": "markdown",
      "source": [
        "s를 아래 한 번 더 써줌. \n",
        "\n",
        "print (S)랑 같은 효과. 셀의 가장 마지막 줄만 그냥 S 만 써도 프린트 한 효과를 가짐. "
      ],
      "metadata": {
        "id": "5LETGLkL5S09"
      }
    },
    {
      "cell_type": "code",
      "source": [
        "result = s.find('house') \t    # index of first instance of string t inside s (-1 if not found)\n",
        "result"
      ],
      "metadata": {
        "colab": {
          "base_uri": "https://localhost:8080/",
          "height": 0
        },
        "id": "ZNV_qvdw4_hZ",
        "outputId": "41d7f719-064e-4534-943f-270aadf03187"
      },
      "execution_count": 14,
      "outputs": [
        {
          "output_type": "execute_result",
          "data": {
            "text/plain": [
              "11"
            ]
          },
          "metadata": {},
          "execution_count": 14
        }
      ]
    },
    {
      "cell_type": "markdown",
      "source": [
        "'house'가 11번째라는 것. \n"
      ],
      "metadata": {
        "id": "lSRLajdQ5hPn"
      }
    },
    {
      "cell_type": "code",
      "source": [
        "result = s.find('this')\t      # index of first instance of string t inside s (-1 if not found)\n",
        "result"
      ],
      "metadata": {
        "colab": {
          "base_uri": "https://localhost:8080/",
          "height": 0
        },
        "id": "4c_QYtzA5DAo",
        "outputId": "01dc9032-cc63-4f2d-b1d0-db84530bd27f"
      },
      "execution_count": 15,
      "outputs": [
        {
          "output_type": "execute_result",
          "data": {
            "text/plain": [
              "1"
            ]
          },
          "metadata": {},
          "execution_count": 15
        }
      ]
    },
    {
      "cell_type": "markdown",
      "source": [
        "가장 먼저 나오는 this."
      ],
      "metadata": {
        "id": "KwvkK1yE5pxZ"
      }
    },
    {
      "cell_type": "code",
      "source": [
        "s = s.strip()      \t          # a copy of s without leading or trailing whitespace\n",
        "s"
      ],
      "metadata": {
        "colab": {
          "base_uri": "https://localhost:8080/",
          "height": 36
        },
        "id": "rX5kZsvL5FbP",
        "outputId": "e927908f-5c9d-4f74-8db5-839a05d1ca91"
      },
      "execution_count": 16,
      "outputs": [
        {
          "output_type": "execute_result",
          "data": {
            "text/plain": [
              "'this is a house built this year.'"
            ],
            "application/vnd.google.colaboratory.intrinsic+json": {
              "type": "string"
            }
          },
          "metadata": {},
          "execution_count": 16
        }
      ]
    },
    {
      "cell_type": "markdown",
      "source": [
        "whitespace를 없애주는 것. "
      ],
      "metadata": {
        "id": "hsTVy4_J5xiG"
      }
    },
    {
      "cell_type": "code",
      "source": [
        "tokens = s.split(' ')\t        # split s into a list wherever a t is found (whitespace by default)\n",
        "tokens"
      ],
      "metadata": {
        "colab": {
          "base_uri": "https://localhost:8080/",
          "height": 0
        },
        "id": "UWsG-U_W5IaK",
        "outputId": "a20c5b00-4289-4c21-993b-e67140b071c9"
      },
      "execution_count": 17,
      "outputs": [
        {
          "output_type": "execute_result",
          "data": {
            "text/plain": [
              "['this', 'is', 'a', 'house', 'built', 'this', 'year.']"
            ]
          },
          "metadata": {},
          "execution_count": 17
        }
      ]
    },
    {
      "cell_type": "markdown",
      "source": [
        "split이라는 함수: 빈칸이 있으면 빈칸을 중심으로 쪼개서 리스트로 만들어라. \n",
        "\n",
        "빈칸은 포함시키지 않음. 단어를 빈칸 중심으로 나눔. \n",
        "\n",
        "그러면 리스트로 만든 것을 원 문장으로 만들고 싶다면 아래를 보면 됨. "
      ],
      "metadata": {
        "id": "Ao9TW9vK56_h"
      }
    },
    {
      "cell_type": "code",
      "source": [
        "s = ' '.join(tokens)\t        # combine the words of the text into a string using s as the glue\n",
        "s"
      ],
      "metadata": {
        "colab": {
          "base_uri": "https://localhost:8080/",
          "height": 36
        },
        "id": "3bUQv19w5K7u",
        "outputId": "7d7f7b81-f424-4798-aec3-7a40c67ce19b"
      },
      "execution_count": 18,
      "outputs": [
        {
          "output_type": "execute_result",
          "data": {
            "text/plain": [
              "'this is a house built this year.'"
            ],
            "application/vnd.google.colaboratory.intrinsic+json": {
              "type": "string"
            }
          },
          "metadata": {},
          "execution_count": 18
        }
      ]
    },
    {
      "cell_type": "code",
      "source": [
        "s = s.replace('this', 'that') # replace instances of t with u inside s\n",
        "s"
      ],
      "metadata": {
        "colab": {
          "base_uri": "https://localhost:8080/",
          "height": 36
        },
        "id": "uNoWGBwI5NK8",
        "outputId": "d0a77329-8c4a-400f-a1a4-b321a32511dc"
      },
      "execution_count": 19,
      "outputs": [
        {
          "output_type": "execute_result",
          "data": {
            "text/plain": [
              "'that is a house built that year.'"
            ],
            "application/vnd.google.colaboratory.intrinsic+json": {
              "type": "string"
            }
          },
          "metadata": {},
          "execution_count": 19
        }
      ]
    },
    {
      "cell_type": "markdown",
      "source": [
        "this를 that으로 바꿔줘라. \n"
      ],
      "metadata": {
        "id": "YhDt9SNt6OFD"
      }
    },
    {
      "cell_type": "code",
      "source": [
        "def add(a,b):\n",
        "  return a+b\n",
        "\n",
        "def subtract(a,b):\n",
        "  return a-b\n",
        "\n",
        "def multiply(a,b):\n",
        "  return a*b\n",
        "\n",
        "def divide(a,b):\n",
        "  return a/b"
      ],
      "metadata": {
        "id": "Am5VYjDf6lLq"
      },
      "execution_count": 24,
      "outputs": []
    },
    {
      "cell_type": "code",
      "source": [
        "c = add(1,2); print(c)\n",
        "c = subtract(1,2); print(c)\n",
        "c = multiply(1,2); print(c)\n",
        "c = divide(1,2); print(c)"
      ],
      "metadata": {
        "colab": {
          "base_uri": "https://localhost:8080/",
          "height": 0
        },
        "id": "zX5lg1Sn7jww",
        "outputId": "1acf20c5-600f-483b-8cf7-b719a728b48e"
      },
      "execution_count": 25,
      "outputs": [
        {
          "output_type": "stream",
          "name": "stdout",
          "text": [
            "3\n",
            "-1\n",
            "2\n",
            "0.5\n"
          ]
        }
      ]
    },
    {
      "cell_type": "markdown",
      "source": [
        "def 함수이름 (입력변수) : \n",
        "\n",
        "입력이 여러 개면 , 찍고 적으면 됨.\n",
        "(입력변수1,입력변수2)이렇게. \n",
        "\n",
        "함수는 입력이 있고 출력이 있음. \n",
        "return이라고 하고 출력변수 적으면 됨. \n",
        "\n",
        "def->함수를 정의한다. \n",
        "\n",
        "함수는 정의를 해야한다. 입력 출력의 관계가 선택적으로. "
      ],
      "metadata": {
        "id": "4pVRykQ06puC"
      }
    },
    {
      "cell_type": "markdown",
      "source": [
        "Syntax: 대표적인 게 반복문, 조건문. \n",
        "\n",
        "반복문: 주로 for 를 사용\n",
        "조건문: 주로 if 를 사용"
      ],
      "metadata": {
        "id": "k-CYIaLK74cM"
      }
    },
    {
      "cell_type": "code",
      "source": [
        "a = [1, 2, 3, 4]\n",
        "for i in a:\n",
        "    print(i)"
      ],
      "metadata": {
        "colab": {
          "base_uri": "https://localhost:8080/",
          "height": 0
        },
        "id": "9UkSgpzO7--y",
        "outputId": "749b4845-8ca6-4a4d-b98c-5f37db7d494b"
      },
      "execution_count": 26,
      "outputs": [
        {
          "output_type": "stream",
          "name": "stdout",
          "text": [
            "1\n",
            "2\n",
            "3\n",
            "4\n"
          ]
        }
      ]
    },
    {
      "cell_type": "markdown",
      "source": [
        "for는 어떻게 해석을 해야 하는가? \n",
        "\n",
        "for i in a:\n",
        "  (반드시 인덴트 해줘야 함) print (i)\n",
        "\n",
        "a에서 하나씩 받아서 실행하는 것. 이걸 for loop라고 함. a의 개수대로 4번 돌리는 것.  "
      ],
      "metadata": {
        "id": "0nnxSUMN8zyr"
      }
    },
    {
      "cell_type": "code",
      "source": [
        "a = [1, 2, 3, 4]\n",
        "for i in range(len(a)):\n",
        "    print(a[i])"
      ],
      "metadata": {
        "colab": {
          "base_uri": "https://localhost:8080/",
          "height": 0
        },
        "id": "RasAUbSX8BQv",
        "outputId": "09cd83db-5050-4947-ded9-bb2ec32e1116"
      },
      "execution_count": 27,
      "outputs": [
        {
          "output_type": "stream",
          "name": "stdout",
          "text": [
            "1\n",
            "2\n",
            "3\n",
            "4\n"
          ]
        }
      ]
    },
    {
      "cell_type": "markdown",
      "source": [
        "위에는 list가 in 다음에 온 거고, \n",
        "\n",
        "이 경우는 in 다음에 range를 씀. \n",
        "\n",
        "range(len(a))=range(4)\n",
        "\n",
        "위의 경우는 리스트가 바로 들어간 경우\n",
        "\n",
        "이 경우는 인덱스를 이용한 경우. \n",
        "\n",
        "range는 따로 잘 쓰지 않음. \n"
      ],
      "metadata": {
        "id": "y-wm30PF9Vly"
      }
    },
    {
      "cell_type": "code",
      "source": [
        "a = ['red', 'green', 'blue', 'purple']\n",
        "for i in a:\n",
        "    print(i)"
      ],
      "metadata": {
        "colab": {
          "base_uri": "https://localhost:8080/",
          "height": 0
        },
        "id": "xfFFNQ138Ek2",
        "outputId": "7cff5ae7-cd18-4a48-eb43-3888e82d4b5a"
      },
      "execution_count": 28,
      "outputs": [
        {
          "output_type": "stream",
          "name": "stdout",
          "text": [
            "red\n",
            "green\n",
            "blue\n",
            "purple\n"
          ]
        }
      ]
    },
    {
      "cell_type": "markdown",
      "source": [
        "이 경우도 똑같음. 첫 번째랑 같은 경우. "
      ],
      "metadata": {
        "id": "Y3Am08zJ9_32"
      }
    },
    {
      "cell_type": "code",
      "source": [
        "a = ['red', 'green', 'blue', 'purple']\n",
        "for i in range(len(a)):\n",
        "    print(a[i])"
      ],
      "metadata": {
        "id": "eELcdh368HCr"
      },
      "execution_count": null,
      "outputs": []
    },
    {
      "cell_type": "code",
      "source": [
        "a = 0\n",
        "if a == 0:\n",
        "    print(a)\n",
        "else:\n",
        "    print(a+1)"
      ],
      "metadata": {
        "colab": {
          "base_uri": "https://localhost:8080/"
        },
        "id": "ZpqP0Pjt8K21",
        "outputId": "e9152203-ee37-4f52-f164-25ceb6e5f82e"
      },
      "execution_count": 29,
      "outputs": [
        {
          "output_type": "stream",
          "name": "stdout",
          "text": [
            "0\n"
          ]
        }
      ]
    },
    {
      "cell_type": "markdown",
      "source": [
        "if 다음에 a==0-> 이게 같다는 의미.\n",
        "\n",
        "=는 equal sign 아님. \n",
        "\n",
        "이것도 print 앞에 인덴트 넣어줘야 함. \n",
        "\n",
        "아니라면은 !=\n"
      ],
      "metadata": {
        "id": "XLlqWYNJ-S4p"
      }
    },
    {
      "cell_type": "code",
      "source": [
        "for i in range(1, 3):\n",
        "    for j in range(3, 5):\n",
        "        print(i*j)"
      ],
      "metadata": {
        "colab": {
          "base_uri": "https://localhost:8080/"
        },
        "id": "PvBx0T-38NJ-",
        "outputId": "bbc12bfe-3971-4c3e-8af0-97f080149487"
      },
      "execution_count": 30,
      "outputs": [
        {
          "output_type": "stream",
          "name": "stdout",
          "text": [
            "3\n",
            "4\n",
            "6\n",
            "8\n"
          ]
        }
      ]
    },
    {
      "cell_type": "markdown",
      "source": [
        "for를 중첩해서 쓸 수 있음. \n",
        "\n",
        "range(1,3)->[1,2]\n",
        "\n",
        "range(3,5)->[3,4]\n",
        "\n"
      ],
      "metadata": {
        "id": "ya9vw7TW-5l8"
      }
    },
    {
      "cell_type": "code",
      "source": [
        "for i in range(1, 3):\n",
        "    for j in range(3, 5):\n",
        "        if j >=4:\n",
        "            print(i*j)"
      ],
      "metadata": {
        "colab": {
          "base_uri": "https://localhost:8080/"
        },
        "id": "hqKppuwi8QIm",
        "outputId": "2495da2e-57e3-485e-98b0-61c1429cc84e"
      },
      "execution_count": 31,
      "outputs": [
        {
          "output_type": "stream",
          "name": "stdout",
          "text": [
            "4\n",
            "8\n"
          ]
        }
      ]
    },
    {
      "cell_type": "markdown",
      "source": [
        "j 가 4보다 같거나 클 경우만 프린트하라. "
      ],
      "metadata": {
        "id": "OZzVVlD3_YSE"
      }
    },
    {
      "cell_type": "code",
      "source": [
        "a = [1, 2, 3, 4]\n",
        "b = [i for i in a if i >=2]\n",
        "b"
      ],
      "metadata": {
        "colab": {
          "base_uri": "https://localhost:8080/"
        },
        "id": "QZ8eUTiF8Sb0",
        "outputId": "69ff15db-60a0-4497-d599-289b366b9906"
      },
      "execution_count": 32,
      "outputs": [
        {
          "output_type": "execute_result",
          "data": {
            "text/plain": [
              "[2, 3, 4]"
            ]
          },
          "metadata": {},
          "execution_count": 32
        }
      ]
    },
    {
      "cell_type": "markdown",
      "source": [
        "list comprehension\n",
        "\n",
        "list 안쪽에 for문이 들어와있음. \n",
        "\n",
        "a에 있는 것을 하나하나씩 i로 받는다. "
      ],
      "metadata": {
        "id": "faveflQk_iGE"
      }
    },
    {
      "cell_type": "code",
      "source": [
        "a = ['red', 'green', 'blue', 'purple']\n",
        "b = [i for i in a if len(i) >=4]\n",
        "b"
      ],
      "metadata": {
        "colab": {
          "base_uri": "https://localhost:8080/"
        },
        "id": "A5n9cUvK8U7N",
        "outputId": "a699646c-aff3-4115-a63a-29e02eff3c2b"
      },
      "execution_count": 33,
      "outputs": [
        {
          "output_type": "execute_result",
          "data": {
            "text/plain": [
              "['green', 'blue', 'purple']"
            ]
          },
          "metadata": {},
          "execution_count": 33
        }
      ]
    },
    {
      "cell_type": "markdown",
      "source": [
        "이것도 list comprehension"
      ],
      "metadata": {
        "id": "WrjTfqLP_zhu"
      }
    },
    {
      "cell_type": "code",
      "source": [
        "a = ['red', 'green', 'blue', 'purple']\n",
        "b = [1, 2, 3, 4]\n",
        "c = {a[i]:b[i] for i in range(4)}\n",
        "c"
      ],
      "metadata": {
        "colab": {
          "base_uri": "https://localhost:8080/"
        },
        "id": "7wXkTVK28XBG",
        "outputId": "07a0459c-4b78-4466-cf5d-db6b7921f71f"
      },
      "execution_count": 34,
      "outputs": [
        {
          "output_type": "execute_result",
          "data": {
            "text/plain": [
              "{'blue': 3, 'green': 2, 'purple': 4, 'red': 1}"
            ]
          },
          "metadata": {},
          "execution_count": 34
        }
      ]
    },
    {
      "cell_type": "markdown",
      "source": [
        "dict comprehension\n",
        "\n",
        "range(4)->[0,1,2,3]"
      ],
      "metadata": {
        "id": "08bqPRSv_kdO"
      }
    },
    {
      "cell_type": "markdown",
      "source": [
        "numpy를 먼저 실행시킨다. \n",
        "\n",
        "numpy 패키지: random number generate 등을 할 수 있음. \n",
        "\n",
        "AI, data science의 가장 중요한 패키지. \n",
        "\n",
        "numpy import 안 해오면 실행이 안 됨. \n"
      ],
      "metadata": {
        "id": "lS2GZzNlBitd"
      }
    },
    {
      "cell_type": "code",
      "source": [
        "import numpy as np\n",
        "n = np.random.randn(100)"
      ],
      "metadata": {
        "id": "c1L3c50ZBDc5"
      },
      "execution_count": 35,
      "outputs": []
    },
    {
      "cell_type": "code",
      "source": [
        "import matplotlib\n",
        "matplotlib.pyplot.hist(n)"
      ],
      "metadata": {
        "colab": {
          "base_uri": "https://localhost:8080/",
          "height": 354
        },
        "id": "EEy8rZWcBIUX",
        "outputId": "155c983b-ca8c-4ed4-ff2e-bdc6fcb14374"
      },
      "execution_count": 36,
      "outputs": [
        {
          "output_type": "execute_result",
          "data": {
            "text/plain": [
              "(array([ 6.,  7.,  8., 14., 21., 19., 17.,  4.,  2.,  2.]),\n",
              " array([-2.2396064 , -1.74206509, -1.24452379, -0.74698248, -0.24944118,\n",
              "         0.24810012,  0.74564143,  1.24318273,  1.74072404,  2.23826534,\n",
              "         2.73580665]),\n",
              " <a list of 10 Patch objects>)"
            ]
          },
          "metadata": {},
          "execution_count": 36
        },
        {
          "output_type": "display_data",
          "data": {
            "text/plain": [
              "<Figure size 432x288 with 1 Axes>"
            ],
            "image/png": "[encoded data removed]"
          },
          "metadata": {
            "needs_background": "light"
          }
        }
      ]
    },
    {
      "cell_type": "markdown",
      "source": [
        "matplotlib도 불러옴. \n",
        "\n",
        "랜덤넘버는 0을 평균값으로 함. \n",
        "\n",
        "y축은 frequency 횟수다."
      ],
      "metadata": {
        "id": "6G2ydP60Caok"
      }
    },
    {
      "cell_type": "code",
      "source": [
        "import matplotlib.pyplot\n",
        "matplotlib.pyplot.hist(n)"
      ],
      "metadata": {
        "id": "nomW34DgBOJK"
      },
      "execution_count": null,
      "outputs": []
    },
    {
      "cell_type": "code",
      "source": [
        "import matplotlib.pyplot as plt\n",
        "plt.hist(n)"
      ],
      "metadata": {
        "id": "OiB0v9vWBQvC"
      },
      "execution_count": null,
      "outputs": []
    },
    {
      "cell_type": "markdown",
      "source": [
        "from import를 쓰면 import as처럼 축약해서 부를 수 있는 효과"
      ],
      "metadata": {
        "id": "taFcbKzhBYJi"
      }
    },
    {
      "cell_type": "code",
      "source": [
        "from matplotlib import pyplot\n",
        "pyplot.hist(n)"
      ],
      "metadata": {
        "id": "XMjvvLWLBZHz"
      },
      "execution_count": null,
      "outputs": []
    },
    {
      "cell_type": "code",
      "source": [
        "from matplotlib.pyplot import hist\n",
        "hist(n)"
      ],
      "metadata": {
        "id": "1yWcum8nBfAd"
      },
      "execution_count": null,
      "outputs": []
    }
  ]
}